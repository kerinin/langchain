{
 "cells": [
  {
   "cell_type": "raw",
   "id": "ee14951b",
   "metadata": {
    "vscode": {
     "languageId": "raw"
    }
   },
   "source": [
    "---\n",
    "sidebar_position: 1\n",
    "---"
   ]
  },
  {
   "cell_type": "markdown",
   "id": "105cddce",
   "metadata": {},
   "source": [
    "# How to create custom Document links\n",
    "\n",
    "Graph vector stores allow documents to be connected in different ways, allowing different types of relationships between documents to be used in retrieval.\n",
    "\n",
    "Several common types of relationships can be defined automatically, but in some cases you may want to create custom links. In this example we'll see how to create links directly.\n",
    "\n",
    "In this guide we will cover:\n",
    "\n",
    "1. How document links work;\n",
    "2. How to create custom links;\n",
    "2. How to extend a document custom links;\n",
    "3. How to retrieve documents from a graph vector store.\n",
    "\n",
    "## How document links work\n",
    "\n",
    "Documents in a graph vector store are connected via \"links\". Links form a bipartite graph between documents and tags: documents are connected to tags, and tags are connected to other documents. When documents are retrieved from a graph vector store, a pair of documents are connected with a depth of one if both documents are connected to the same tag.\n",
    "\n",
    "Links have a \"kind\", used to namespace different tag identifiers. For example a link to a keyword might use kind `kw`, while a link to a URL might use kind `url`. This allows the same tag value to be used in different contexts without causing name collisions.\n",
    "\n",
    "Links are directed - the directionality of links controls how the graph is traversed at retrieval time. For example, given documents A and B, connected by links to tag T:\n",
    "\n",
    "| A to T | B to T | Result |\n",
    "|--------|--------|--------|\n",
    "| outgoing | incoming | Retrieval traverses from A to B |\n",
    "| incoming | incoming | No traversal from A to B |\n",
    "| outgoing | outgoing | No traversal from A to B |\n",
    "| incoming | outgoing | No traversal from A to B |\n",
    "| bidir | incoming | Retrieval traverses from A to B |\n",
    "| bidir | outgoing | No traversal from A to B |\n",
    "| outgoing | bidir | Retrieval traverses from A to B |\n",
    "| incoming | bidir | No traversal from A to B |\n",
    "\n",
    "Directed links make it possible to describe relationships such as term references / definitions: term definitions are generally relevant to any documents that use the term, but the full set of documents using a term generally aren't relevant to the term's definition.\n",
    "\n",
    "## How to create custom links\n",
    "\n",
    "You can create links using the [Link](https://api.python.langchain.com/en/latest/graph_vectorstores/langchain_core.graph_vectorstores.links.Link.html) class's constructors [.bidir](https://api.python.langchain.com/en/latest/graph_vectorstores/langchain_core.graph_vectorstores.links.Link.html#langchain_core.graph_vectorstores.links.Link.bidir), [.incoming](https://api.python.langchain.com/en/latest/graph_vectorstores/langchain_core.graph_vectorstores.links.Link.html#langchain_core.graph_vectorstores.links.Link.incoming), and [.outgoing](https://api.python.langchain.com/en/latest/graph_vectorstores/langchain_core.graph_vectorstores.links.Link.html#langchain_core.graph_vectorstores.links.Link.outgoing)."
   ]
  },
  {
   "cell_type": "code",
   "execution_count": null,
   "id": "3ce3291c",
   "metadata": {},
   "outputs": [],
   "source": [
    "from langchain_core.graph_vectorstores.links import Link\n",
    "\n",
    "link = Link.bidir(kind=\"location\", tag=\"Paris\")"
   ]
  },
  {
   "cell_type": "markdown",
   "id": "e42286a7",
   "metadata": {},
   "source": [
    "## Extending documents with custom links\n",
    "\n",
    "Now that we know how to create links, let's associate them with some documents. These edges will strengthen the connection between documents that share a keyword when using a graph vector store to retrieve documents.\n",
    "\n",
    "First, we'll load some text and chunk it into smaller pieces."
   ]
  },
  {
   "cell_type": "code",
   "execution_count": null,
   "id": "174e3c69",
   "metadata": {},
   "outputs": [],
   "source": [
    "from langchain_community.document_loaders import TextLoader\n",
    "from langchain_text_splitters import CharacterTextSplitter\n",
    "from langchain_community.graph_vectorstores.extractors import KeybertLinkExtractor\n",
    "\n",
    "loader = TextLoader(\"state_of_the_union.txt\")\n",
    "\n",
    "documents = loader.load()\n",
    "text_splitter = CharacterTextSplitter(chunk_size=1000, chunk_overlap=0)\n",
    "texts = text_splitter.split_documents(documents)\n",
    "\n",
    "keyword_extractor = KeybertLinkExtractor()\n",
    "keyword_extractor.extract_one(texts[0])"
   ]
  },
  {
   "cell_type": "code",
   "execution_count": null,
   "id": "d2b33b1c",
   "metadata": {},
   "outputs": [],
   "source": [
    "from langchain_core.graph_vectorstores.links import add_links\n",
    "\n",
    "for text in texts:\n",
    "    add_links(text, Link.bidir(kind=\"genre\", tag=\"oratory\"))\n",
    "\n",
    "texts[0].metadata"
   ]
  },
  {
   "cell_type": "markdown",
   "id": "5cc11739",
   "metadata": {},
   "source": [
    "As you can see, each document's metadata now includes a bidirectional link to the genre \"oratory\"."
   ]
  },
  {
   "cell_type": "markdown",
   "id": "ed2ac5be",
   "metadata": {},
   "source": [
    "## Retrieving documents from a graph vector store\n",
    "\n",
    "In order to use links during document retrieval we'll first add our documents to a graph vector store, then query the store as a retriever.\n",
    "\n",
    "We'll begin by adding the documents to a graph vector store. We'll use a store backed by Cassandra [CassandraGraphVectorStore](https://api.python.langchain.com/en/latest/graph_vectorstores/langchain_community.graph_vectorstores.cassandra.CassandraGraphVectorStore.html) graph vectorstore:"
   ]
  },
  {
   "cell_type": "code",
   "execution_count": null,
   "id": "4fc96631",
   "metadata": {},
   "outputs": [],
   "source": [
    "from langchain_community.graph_vectorstores import CassandraGraphVectorStore\n",
    "from langchain_openai import OpenAIEmbeddings\n",
    "\n",
    "embeddings = OpenAIEmbeddings()\n",
    "graph_vectorstore = CassandraGraphVectorStore.from_documents(texts, embeddings)"
   ]
  },
  {
   "cell_type": "markdown",
   "id": "6f6e65a1-5eb4-4165-b06b-9bb40624a8d8",
   "metadata": {},
   "source": [
    "We can then instantiate a retriever:"
   ]
  },
  {
   "cell_type": "code",
   "execution_count": null,
   "id": "52df5f55",
   "metadata": {},
   "outputs": [],
   "source": [
    "retriever = graph_vectorstore.as_retriever()"
   ]
  },
  {
   "cell_type": "markdown",
   "id": "08f8b820-5912-49c1-9d76-40be0571dffb",
   "metadata": {},
   "source": [
    "This creates a retriever (specifically a [GraphVectorStoreRetriever](https://api.python.langchain.com/en/latest/graph_vectorstores/langchain_core.graph_vectorstores.base.GraphVectorStoreRetriever.html)), which we can use in the usual way:"
   ]
  },
  {
   "cell_type": "code",
   "execution_count": 3,
   "id": "32334fda",
   "metadata": {},
   "outputs": [],
   "source": [
    "docs = retriever.invoke(\"what did the president say about ketanji brown jackson?\")"
   ]
  }
 ],
 "metadata": {
  "kernelspec": {
   "display_name": "Python 3 (ipykernel)",
   "language": "python",
   "name": "python3"
  },
  "language_info": {
   "codemirror_mode": {
    "name": "ipython",
    "version": 3
   },
   "file_extension": ".py",
   "mimetype": "text/x-python",
   "name": "python",
   "nbconvert_exporter": "python",
   "pygments_lexer": "ipython3",
   "version": "3.10.4"
  }
 },
 "nbformat": 4,
 "nbformat_minor": 5
}
